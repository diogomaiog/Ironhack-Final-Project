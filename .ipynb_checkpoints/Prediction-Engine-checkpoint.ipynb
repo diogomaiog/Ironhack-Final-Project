{
 "cells": [
  {
   "cell_type": "code",
   "execution_count": 1,
   "metadata": {},
   "outputs": [],
   "source": [
    "# Here I take inputs from the user and make a prediction, based on the models created in \n",
    "# the Main notebook"
   ]
  },
  {
   "cell_type": "code",
   "execution_count": 36,
   "metadata": {},
   "outputs": [],
   "source": [
    "import pickle\n",
    "import pandas as pd"
   ]
  },
  {
   "cell_type": "code",
   "execution_count": 37,
   "metadata": {},
   "outputs": [],
   "source": [
    "# list of valid movie genres\n",
    "valid_genres = ['action','adventure','animation','biography','comedy','crime','documentary',\n",
    "          'drama','family','fantasy','history','horror','music','musical','mystery',\n",
    "          'news','romance','sci-fi','sport','thriller','war', 'western']\n",
    "\n",
    "valid_ratings = ['G','NC-17','Not Rated','PG','PG-13','R','TV-14','TV-G','TV-MA','TV-PG',\n",
    "                 'Unrated','X']\n",
    "\n",
    "valid_directors = ['Steven Spielberg']\n",
    "\n",
    "valid_actors = ['Steven Segal', 'Chuck Norris', 'Ted Bundy']"
   ]
  },
  {
   "cell_type": "code",
   "execution_count": 38,
   "metadata": {},
   "outputs": [
    {
     "ename": "FileNotFoundError",
     "evalue": "[Errno 2] No such file or directory: 'moviesROI.pkl'",
     "output_type": "error",
     "traceback": [
      "\u001b[1;31m---------------------------------------------------------------------------\u001b[0m",
      "\u001b[1;31mFileNotFoundError\u001b[0m                         Traceback (most recent call last)",
      "\u001b[1;32m<ipython-input-38-c39641230113>\u001b[0m in \u001b[0;36m<module>\u001b[1;34m\u001b[0m\n\u001b[0;32m      1\u001b[0m \u001b[1;31m#load movies\u001b[0m\u001b[1;33m\u001b[0m\u001b[1;33m\u001b[0m\u001b[1;33m\u001b[0m\u001b[0m\n\u001b[1;32m----> 2\u001b[1;33m \u001b[0mmovies\u001b[0m \u001b[1;33m=\u001b[0m \u001b[0mpickle\u001b[0m\u001b[1;33m.\u001b[0m\u001b[0mload\u001b[0m\u001b[1;33m(\u001b[0m\u001b[0mopen\u001b[0m\u001b[1;33m(\u001b[0m\u001b[1;34m'moviesROI.pkl'\u001b[0m\u001b[1;33m,\u001b[0m\u001b[1;34m\"rb\"\u001b[0m\u001b[1;33m)\u001b[0m\u001b[1;33m)\u001b[0m\u001b[1;33m\u001b[0m\u001b[1;33m\u001b[0m\u001b[0m\n\u001b[0m",
      "\u001b[1;31mFileNotFoundError\u001b[0m: [Errno 2] No such file or directory: 'moviesROI.pkl'"
     ]
    }
   ],
   "source": [
    "#load movies\n",
    "movies = pickle.load(open('moviesROI.pkl',\"rb\"))"
   ]
  },
  {
   "cell_type": "code",
   "execution_count": 33,
   "metadata": {},
   "outputs": [
    {
     "name": "stdout",
     "output_type": "stream",
     "text": [
      "Please enter the year your movie will come out :\n",
      "1998\n",
      "Please enter the runtime in minutes of your movie:\n",
      "90\n",
      "Please enter one of your movie genres:\n",
      "war\n",
      "Do you want to add more genres to your movie?(y/n)\n",
      "y\n",
      "Please enter one of your movie genres:\n",
      "drama\n",
      "Do you want to add more genres to your movie?(y/n)\n",
      "n\n",
      "Please enter your movie rating:\n",
      "R\n",
      "Please enter your movie director:\n",
      "Steven Spielberg\n",
      "Please enter one of your movie actors:\n",
      "Steven Segal\n",
      "Do you want to add more actors to your movie?(y/n)\n",
      "y\n",
      "Please enter one of your movie actors:\n",
      "Chuck Norris\n",
      "Do you want to add more actors to your movie?(y/n)\n",
      "n\n",
      "Briefly describe your movie plot (around 150 words).\n",
      "A group of military men get together to steal a dinossaur. They get caught but manage to escape in a event that will change the destiny of all mankind.\n"
     ]
    }
   ],
   "source": [
    "# get inputs\n",
    "\n",
    "# year\n",
    "def valid_year(year):\n",
    "    try:\n",
    "        year = int(year)\n",
    "        if year >= 1980 and year < 2025:\n",
    "            return True\n",
    "    except:\n",
    "        return False\n",
    "\n",
    "year = input(\"Please enter the year your movie will come out :\\n\")\n",
    "while not valid_year(year):\n",
    "    print('Please enter a valid year between 1980 and 2025.')\n",
    "    year = input(\"Please enter the year your movie will come out :\\n\")\n",
    "\n",
    "year = int(year)\n",
    "\n",
    "# runtimeMinutes\n",
    "def valid_runtimeMinutes(minutes):\n",
    "    try:\n",
    "        minutes = int(minutes)\n",
    "        if minutes > 0 and minutes < 300:\n",
    "            return True\n",
    "    except:\n",
    "        return False\n",
    "\n",
    "runtimeMinutes = input(\"Please enter the runtime in minutes of your movie:\\n\")\n",
    "while not valid_runtimeMinutes(runtimeMinutes):\n",
    "    print('Please enter a valid runtime between 0 and 300 minutes.')\n",
    "    runtimeMinutes = input(\"Please enter the runtime in minutes of your movie:\\n\")\n",
    "\n",
    "runtimeMinutes = int(runtimeMinutes)\n",
    "\n",
    "# genres\n",
    "def valid_yn(yn):\n",
    "    if yn == 'y' or yn =='n':\n",
    "        return True\n",
    "    return False\n",
    "\n",
    "def request_genre():\n",
    "    genre = input(\"Please enter one of your movie genres:\\n\")\n",
    "    genre = genre.lower()\n",
    "    while genre not in valid_genres:\n",
    "        print('That is not a valid genre.')\n",
    "        genre = input(\"Please enter one of your movie genres:\\n\")\n",
    "        genre = genre.lower()\n",
    "    genres.add(genre)\n",
    "    return\n",
    "\n",
    "def request_yn():    \n",
    "        more = input(\"Do you want to add more genres to your movie?(y/n)\\n\")\n",
    "        while not valid_yn(more):\n",
    "            more = input(\"Do you want to add more genres to your movie?(y/n)\\n\")\n",
    "        return more\n",
    "\n",
    "\n",
    "genres = set()\n",
    "request_genre()\n",
    "while request_yn() == 'y':\n",
    "    request_genre()\n",
    "    \n",
    "# rating\n",
    "rating = input(\"Please enter your movie rating:\\n\")\n",
    "while rating not in valid_ratings:\n",
    "    print('That is not a valid rating.')\n",
    "    rating = input(\"Please enter your movie rating:\\n\")\n",
    "\n",
    "# director\n",
    "director = input(\"Please enter your movie director:\\n\")\n",
    "while director not in valid_directors:\n",
    "    print('That is not a valid director.')\n",
    "    director = input(\"Please enter your movie director:\\n\")\n",
    "\n",
    "# actors\n",
    "def request_actor():\n",
    "    actor = input(\"Please enter one of your movie actors:\\n\")\n",
    "    while actor not in valid_actors:\n",
    "        print('That is not a valid actor.')\n",
    "        actor = input(\"Please enter one of your movie actors:\\n\")\n",
    "    actors.add(actor)\n",
    "    return\n",
    "\n",
    "def request_yn_actor():    \n",
    "        more = input(\"Do you want to add more actors to your movie?(y/n)\\n\")\n",
    "        while not valid_yn(more):\n",
    "            more = input(\"Do you want to add more actors to your movie?(y/n)\\n\")\n",
    "        return more\n",
    "\n",
    "actors = set()\n",
    "request_actor()\n",
    "while request_yn_actor() == 'y' and len(actors) < 3:\n",
    "    request_actor()\n",
    "\n",
    "story = input(\"Briefly describe your movie plot (around 150 words).\\n\")"
   ]
  },
  {
   "cell_type": "code",
   "execution_count": 34,
   "metadata": {},
   "outputs": [
    {
     "name": "stdout",
     "output_type": "stream",
     "text": [
      "1998 90 {'drama', 'war'} R Steven Spielberg {'Chuck Norris', 'Steven Segal'} A group of military men get together to steal a dinossaur. They get caught but manage to escape in a event that will change the destiny of all mankind.\n"
     ]
    }
   ],
   "source": [
    "print(year, runtimeMinutes, genres, rating, director, actors, story)"
   ]
  },
  {
   "cell_type": "code",
   "execution_count": null,
   "metadata": {},
   "outputs": [],
   "source": []
  }
 ],
 "metadata": {
  "kernelspec": {
   "display_name": "Python 3",
   "language": "python",
   "name": "python3"
  },
  "language_info": {
   "codemirror_mode": {
    "name": "ipython",
    "version": 3
   },
   "file_extension": ".py",
   "mimetype": "text/x-python",
   "name": "python",
   "nbconvert_exporter": "python",
   "pygments_lexer": "ipython3",
   "version": "3.8.3"
  }
 },
 "nbformat": 4,
 "nbformat_minor": 4
}
